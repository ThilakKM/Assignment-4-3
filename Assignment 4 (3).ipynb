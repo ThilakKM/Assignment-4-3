{
 "cells": [
  {
   "cell_type": "code",
   "execution_count": 1,
   "id": "de6406a0",
   "metadata": {},
   "outputs": [
    {
     "data": {
      "text/plain": [
       "[16, 25, 4, 81]"
      ]
     },
     "execution_count": 1,
     "metadata": {},
     "output_type": "execute_result"
    }
   ],
   "source": [
    "x = [4, 5, 2, 9]\n",
    "list(map(lambda y : y**2 , x))"
   ]
  },
  {
   "cell_type": "code",
   "execution_count": 2,
   "id": "0759c34b",
   "metadata": {},
   "outputs": [
    {
     "data": {
      "text/plain": [
       "[16, 25, 4, 81]"
      ]
     },
     "execution_count": 2,
     "metadata": {},
     "output_type": "execute_result"
    }
   ],
   "source": [
    "x = [4, 5, 2, 9]\n",
    "def square(numbers):\n",
    "    return numbers ** 2\n",
    "list(map(square , x))"
   ]
  },
  {
   "cell_type": "code",
   "execution_count": 3,
   "id": "263ca239",
   "metadata": {},
   "outputs": [
    {
     "name": "stdout",
     "output_type": "stream",
     "text": [
      "4 5 2 9 1 3\n"
     ]
    },
    {
     "data": {
      "text/plain": [
       "[16, 25, 4, 81, 1, 9]"
      ]
     },
     "execution_count": 3,
     "metadata": {},
     "output_type": "execute_result"
    }
   ],
   "source": [
    "x = list(map(int , input().split()))\n",
    "list(map(lambda y : y**2 , x))"
   ]
  },
  {
   "cell_type": "code",
   "execution_count": 4,
   "id": "d2fdb954",
   "metadata": {
    "scrolled": true
   },
   "outputs": [
    {
     "name": "stdout",
     "output_type": "stream",
     "text": [
      "[16, 25, 4, 81]\n"
     ]
    }
   ],
   "source": [
    "x = [4, 5, 2, 9]\n",
    "y = [i**2 for i in x]\n",
    "print(y)"
   ]
  }
 ],
 "metadata": {
  "kernelspec": {
   "display_name": "Python 3 (ipykernel)",
   "language": "python",
   "name": "python3"
  },
  "language_info": {
   "codemirror_mode": {
    "name": "ipython",
    "version": 3
   },
   "file_extension": ".py",
   "mimetype": "text/x-python",
   "name": "python",
   "nbconvert_exporter": "python",
   "pygments_lexer": "ipython3",
   "version": "3.10.2"
  }
 },
 "nbformat": 4,
 "nbformat_minor": 5
}
